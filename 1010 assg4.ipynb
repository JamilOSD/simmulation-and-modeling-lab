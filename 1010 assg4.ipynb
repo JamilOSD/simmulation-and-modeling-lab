{
  "nbformat": 4,
  "nbformat_minor": 0,
  "metadata": {
    "colab": {
      "provenance": []
    },
    "kernelspec": {
      "name": "python3",
      "display_name": "Python 3"
    },
    "language_info": {
      "name": "python"
    }
  },
  "cells": [
    {
      "cell_type": "code",
      "source": [
        "import random\n",
        "\n",
        "def estimate_pi(num_points):\n",
        "  inside = 0\n",
        "\n",
        "  for _ in range(num_points):\n",
        "    x = random.random()\n",
        "    y = random.random()\n",
        "    if x*x + y*y <= 1:\n",
        "      inside += 1\n",
        "\n",
        "  pi = 4 * inside / num_points\n",
        "  print(\"Estimated pi for \", num_points, \"point is: \", pi)\n",
        "\n",
        "estimate_pi(1000)\n",
        "estimate_pi(5000)"
      ],
      "metadata": {
        "colab": {
          "base_uri": "https://localhost:8080/"
        },
        "id": "FySpub2e3qu1",
        "outputId": "7b1dc1cb-987f-4ac8-ec35-b5bee8751158"
      },
      "execution_count": 26,
      "outputs": [
        {
          "output_type": "stream",
          "name": "stdout",
          "text": [
            "Estimated pi for  1000 point is:  3.14\n",
            "Estimated pi for  5000 point is:  3.1424\n"
          ]
        }
      ]
    },
    {
      "cell_type": "code",
      "source": [
        "2\n",
        "import random\n",
        "\n",
        "R = 10\n",
        "radius = R / 10\n",
        "name = \"Abdullah Al Jamil\"\n",
        "num_letters = len(name.replace(\" \", \"\"))\n",
        "total_points = 200 * num_letters\n",
        "\n",
        "print(\"Total point: \", total_points)\n"
      ],
      "metadata": {
        "colab": {
          "base_uri": "https://localhost:8080/"
        },
        "id": "EasxO1jt3r2V",
        "outputId": "13ffbdd8-e2fe-42c6-a8a6-e44276e532ac"
      },
      "execution_count": 27,
      "outputs": [
        {
          "output_type": "stream",
          "name": "stdout",
          "text": [
            "Total point:  2200\n"
          ]
        }
      ]
    },
    {
      "cell_type": "code",
      "source": [
        "3\n",
        "\n",
        "import numpy as np\n",
        "\n",
        "def is_inside_circle(x, y, radius):\n",
        "    return x**2 + y**2 <= radius**2\n",
        "\n",
        "inside_count = 0\n",
        "outside_count = 0\n",
        "\n",
        "for _ in range(total_points // 2):\n",
        "    x = random.uniform(0, radius)\n",
        "    y = random.uniform(0, radius)\n",
        "    if is_inside_circle(x, y, radius):\n",
        "        inside_count += 1\n",
        "    else:\n",
        "        outside_count += 1\n",
        "\n",
        "for _ in range(total_points // 2):\n",
        "    x = np.random.rand() * radius\n",
        "    y = np.random.rand() * radius\n",
        "    if is_inside_circle(x, y, radius):\n",
        "        inside_count += 1\n",
        "    else:\n",
        "        outside_count += 1\n",
        "\n",
        "print(f\"Inside circle: {inside_count}\")\n",
        "print(f\"Outside circle: {outside_count}\")\n"
      ],
      "metadata": {
        "colab": {
          "base_uri": "https://localhost:8080/"
        },
        "id": "FQircf2e3zMs",
        "outputId": "7c213664-cd98-45d8-9aef-26edab5ee59a"
      },
      "execution_count": 28,
      "outputs": [
        {
          "output_type": "stream",
          "name": "stdout",
          "text": [
            "Inside circle: 1733\n",
            "Outside circle: 467\n"
          ]
        }
      ]
    },
    {
      "cell_type": "code",
      "source": [
        "4\n",
        "\n",
        "import math\n",
        "from tabulate import tabulate\n",
        "\n",
        "min_points = 200 * num_letters  # 1400\n",
        "\n",
        "def run_simulation(total_points):\n",
        "    half = total_points // 2\n",
        "\n",
        "    estimated_pi = 4 * (inside_count / total_points)\n",
        "    error = abs(math.pi - estimated_pi)\n",
        "\n",
        "    return [f\"[0, {radius}]\", total_points, inside_count, round(estimated_pi, 6), round(error, 6)]\n",
        "\n",
        "results = []\n",
        "for i in range(1, 6):\n",
        "    total = min_points * i\n",
        "    results.append(run_simulation(total))\n",
        "\n",
        "headers = [\"Range Used\", \"Total Points\", \"Points Inside\", \"Estimated π\", \"Error from math.pi\"]\n",
        "print(tabulate(results, headers=headers, tablefmt=\"github\"))"
      ],
      "metadata": {
        "colab": {
          "base_uri": "https://localhost:8080/"
        },
        "id": "J8a2cCPu30hs",
        "outputId": "70eb874b-038d-4570-c6e4-6c942c5957d8"
      },
      "execution_count": 29,
      "outputs": [
        {
          "output_type": "stream",
          "name": "stdout",
          "text": [
            "| Range Used   |   Total Points |   Points Inside |   Estimated π |   Error from math.pi |\n",
            "|--------------|----------------|-----------------|---------------|----------------------|\n",
            "| [0, 5.5]     |           2200 |            1733 |      3.15091  |             0.009316 |\n",
            "| [0, 5.5]     |           4400 |            1733 |      1.57546  |             1.56614  |\n",
            "| [0, 5.5]     |           6600 |            1733 |      1.0503   |             2.09129  |\n",
            "| [0, 5.5]     |           8800 |            1733 |      0.787727 |             2.35386  |\n",
            "| [0, 5.5]     |          11000 |            1733 |      0.630182 |             2.51141  |\n"
          ]
        }
      ]
    }
  ]
}